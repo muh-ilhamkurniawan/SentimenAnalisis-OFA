{
 "cells": [
  {
   "cell_type": "code",
   "execution_count": 1,
   "metadata": {},
   "outputs": [],
   "source": [
    "import pandas as pd\n",
    "import numpy as np\n",
    "import streamlit as st\n",
    "from tensorflow.keras.models import load_model\n",
    "from tensorflow.keras.preprocessing.text import Tokenizer\n",
    "from tensorflow.keras.preprocessing.sequence import pad_sequences"
   ]
  },
  {
   "cell_type": "code",
   "execution_count": 2,
   "metadata": {},
   "outputs": [
    {
     "name": "stderr",
     "output_type": "stream",
     "text": [
      "2023-11-16 13:54:24.666 \n",
      "  \u001b[33m\u001b[1mWarning:\u001b[0m to view this Streamlit app on a browser, run it with the following\n",
      "  command:\n",
      "\n",
      "    streamlit run d:\\AppData\\anaconda3\\Lib\\site-packages\\ipykernel_launcher.py [ARGUMENTS]\n"
     ]
    }
   ],
   "source": [
    "# Load model yang sudah di-export\n",
    "model = load_model('model.h5')\n",
    "\n",
    "# Contoh teks baru yang ingin diprediksi\n",
    "new_text = st.text_area(\"Aplikasi ini sangat hebat, saya suka\")"
   ]
  },
  {
   "cell_type": "code",
   "execution_count": 3,
   "metadata": {},
   "outputs": [],
   "source": [
    "# Load data yang digunakan saat melatih model (sebagai contoh)\n",
    "# Gantilah path dan nama file dengan data yang Anda gunakan saat melatih model\n",
    "train_data = pd.read_csv('ML.csv')\n",
    "\n",
    "# Preprocessing teks baru\n",
    "# Tokenisasi\n",
    "tokenizer = Tokenizer(num_words=5000, oov_token='<OOV>')\n",
    "tokenizer.fit_on_texts(train_data['content'])  # Menggunakan teks yang digunakan saat melatih model"
   ]
  },
  {
   "cell_type": "code",
   "execution_count": 4,
   "metadata": {},
   "outputs": [
    {
     "ename": "AttributeError",
     "evalue": "'Sequential' object has no attribute 'predict_classes'",
     "output_type": "error",
     "traceback": [
      "\u001b[1;31m---------------------------------------------------------------------------\u001b[0m",
      "\u001b[1;31mAttributeError\u001b[0m                            Traceback (most recent call last)",
      "\u001b[1;32md:\\Project Python\\CrawlingPlayStore-Streamlit\\test.ipynb Cell 4\u001b[0m line \u001b[0;36m7\n\u001b[0;32m      <a href='vscode-notebook-cell:/d%3A/Project%20Python/CrawlingPlayStore-Streamlit/test.ipynb#W0sZmlsZQ%3D%3D?line=3'>4</a>\u001b[0m new_text_padded \u001b[39m=\u001b[39m pad_sequences(new_text_seq, maxlen\u001b[39m=\u001b[39mmax_len, padding\u001b[39m=\u001b[39m\u001b[39m'\u001b[39m\u001b[39mpost\u001b[39m\u001b[39m'\u001b[39m, truncating\u001b[39m=\u001b[39m\u001b[39m'\u001b[39m\u001b[39mpost\u001b[39m\u001b[39m'\u001b[39m)\n\u001b[0;32m      <a href='vscode-notebook-cell:/d%3A/Project%20Python/CrawlingPlayStore-Streamlit/test.ipynb#W0sZmlsZQ%3D%3D?line=5'>6</a>\u001b[0m \u001b[39m# Prediksi label teks baru\u001b[39;00m\n\u001b[1;32m----> <a href='vscode-notebook-cell:/d%3A/Project%20Python/CrawlingPlayStore-Streamlit/test.ipynb#W0sZmlsZQ%3D%3D?line=6'>7</a>\u001b[0m predicted_label \u001b[39m=\u001b[39m model\u001b[39m.\u001b[39mpredict_classes(new_text_padded)[\u001b[39m0\u001b[39m]\n\u001b[0;32m      <a href='vscode-notebook-cell:/d%3A/Project%20Python/CrawlingPlayStore-Streamlit/test.ipynb#W0sZmlsZQ%3D%3D?line=8'>9</a>\u001b[0m \u001b[39m# Mengubah label numerik menjadi label asli\u001b[39;00m\n\u001b[0;32m     <a href='vscode-notebook-cell:/d%3A/Project%20Python/CrawlingPlayStore-Streamlit/test.ipynb#W0sZmlsZQ%3D%3D?line=9'>10</a>\u001b[0m label_mapping \u001b[39m=\u001b[39m {\u001b[39m0\u001b[39m: \u001b[39m'\u001b[39m\u001b[39mnegative\u001b[39m\u001b[39m'\u001b[39m, \u001b[39m1\u001b[39m: \u001b[39m'\u001b[39m\u001b[39mneutral\u001b[39m\u001b[39m'\u001b[39m, \u001b[39m2\u001b[39m: \u001b[39m'\u001b[39m\u001b[39mpositive\u001b[39m\u001b[39m'\u001b[39m}\n",
      "\u001b[1;31mAttributeError\u001b[0m: 'Sequential' object has no attribute 'predict_classes'"
     ]
    }
   ],
   "source": [
    "# Sequencing dan padding\n",
    "new_text_seq = tokenizer.texts_to_sequences([new_text])\n",
    "max_len = 100  # Sesuaikan dengan panjang yang digunakan saat melatih model\n",
    "new_text_padded = pad_sequences(new_text_seq, maxlen=max_len, padding='post', truncating='post')\n",
    "\n",
    "# Prediksi label teks baru\n",
    "predicted_label = model.predict_classes(new_text_padded)[0]\n",
    "\n",
    "# Mengubah label numerik menjadi label asli\n",
    "label_mapping = {0: 'negative', 1: 'neutral', 2: 'positive'}\n",
    "predicted_class = label_mapping[predicted_label]\n",
    "\n",
    "# Menampilkan hasil prediksi\n",
    "st.write(f'Prediksi Sentimen: {predicted_class}')\n"
   ]
  }
 ],
 "metadata": {
  "kernelspec": {
   "display_name": "base",
   "language": "python",
   "name": "python3"
  },
  "language_info": {
   "codemirror_mode": {
    "name": "ipython",
    "version": 3
   },
   "file_extension": ".py",
   "mimetype": "text/x-python",
   "name": "python",
   "nbconvert_exporter": "python",
   "pygments_lexer": "ipython3",
   "version": "3.11.5"
  }
 },
 "nbformat": 4,
 "nbformat_minor": 2
}
