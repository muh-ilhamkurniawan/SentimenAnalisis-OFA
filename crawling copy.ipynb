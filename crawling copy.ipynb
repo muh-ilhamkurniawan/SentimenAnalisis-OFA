{
 "cells": [
  {
   "cell_type": "code",
   "execution_count": 42,
   "metadata": {},
   "outputs": [],
   "source": [
    "import pandas as pd\n",
    "from sklearn.model_selection import train_test_split\n",
    "from tensorflow.keras.preprocessing.text import Tokenizer\n",
    "from tensorflow.keras.preprocessing.sequence import pad_sequences\n",
    "from tensorflow.keras.models import Sequential\n",
    "from tensorflow.keras.layers import Embedding, LSTM, Dense, Dropout\n",
    "from tensorflow.keras.models import load_model\n",
    "from sklearn.metrics import classification_report, confusion_matrix\n",
    "from nltk.tokenize import word_tokenize\n",
    "from nltk.corpus import stopwords\n",
    "from Sastrawi.Stemmer.StemmerFactory import StemmerFactory\n",
    "from function import text_preprocessing_process, sentiment_analysis_lexicon_indonesia"
   ]
  },
  {
   "cell_type": "code",
   "execution_count": 43,
   "metadata": {},
   "outputs": [],
   "source": [
    "# Baca data dari file CSV\n",
    "df = pd.read_csv('ML2.csv')"
   ]
  },
  {
   "cell_type": "code",
   "execution_count": 44,
   "metadata": {},
   "outputs": [],
   "source": [
    "# Membuat peta untuk encoding\n",
    "polarity_encode = {'negative': 0, 'neutral': 1, 'positive': 2}\n",
    "\n",
    "# Mengonversi label 'polarity' ke nilai numerik\n",
    "df['polarity_encoded'] = df['polarity'].map(polarity_encode)"
   ]
  },
  {
   "cell_type": "code",
   "execution_count": 45,
   "metadata": {},
   "outputs": [],
   "source": [
    "# Pisahkan data menjadi data latih dan uji\n",
    "X_train, X_test, y_train, y_test = train_test_split(df['clean_teks'], df['polarity_encoded'], test_size=0.2, random_state=42)\n"
   ]
  },
  {
   "cell_type": "code",
   "execution_count": 46,
   "metadata": {},
   "outputs": [],
   "source": [
    "# Tokenisasi teks\n",
    "tokenizer = Tokenizer(num_words=5000, oov_token='<OOV>')\n",
    "tokenizer.fit_on_texts(X_train)\n",
    "X_train_seq = tokenizer.texts_to_sequences(X_train)\n",
    "X_test_seq = tokenizer.texts_to_sequences(X_test)"
   ]
  },
  {
   "cell_type": "code",
   "execution_count": 47,
   "metadata": {},
   "outputs": [],
   "source": [
    "# Padding sequence agar memiliki panjang yang sama\n",
    "X_train_pad = pad_sequences(X_train_seq, maxlen=100, truncating='post', padding='post')\n",
    "X_test_pad = pad_sequences(X_test_seq, maxlen=100, truncating='post', padding='post')"
   ]
  },
  {
   "cell_type": "code",
   "execution_count": 48,
   "metadata": {},
   "outputs": [
    {
     "data": {
      "text/html": [
       "<div>\n",
       "<style scoped>\n",
       "    .dataframe tbody tr th:only-of-type {\n",
       "        vertical-align: middle;\n",
       "    }\n",
       "\n",
       "    .dataframe tbody tr th {\n",
       "        vertical-align: top;\n",
       "    }\n",
       "\n",
       "    .dataframe thead th {\n",
       "        text-align: right;\n",
       "    }\n",
       "</style>\n",
       "<table border=\"1\" class=\"dataframe\">\n",
       "  <thead>\n",
       "    <tr style=\"text-align: right;\">\n",
       "      <th></th>\n",
       "      <th>Unnamed: 0</th>\n",
       "      <th>userName</th>\n",
       "      <th>score</th>\n",
       "      <th>at</th>\n",
       "      <th>content</th>\n",
       "      <th>clean_teks</th>\n",
       "      <th>polarity_score</th>\n",
       "      <th>polarity</th>\n",
       "      <th>polarity_encoded</th>\n",
       "    </tr>\n",
       "  </thead>\n",
       "  <tbody>\n",
       "    <tr>\n",
       "      <th>0</th>\n",
       "      <td>0</td>\n",
       "      <td>Kayna Adiva</td>\n",
       "      <td>1</td>\n",
       "      <td>2023-10-31T17:01:24.000</td>\n",
       "      <td>Saya rank legend 5 malah terus bertemu musuh y...</td>\n",
       "      <td>peringkat,legend,temu,musuh,legend,kalah,tim,m...</td>\n",
       "      <td>-6</td>\n",
       "      <td>negative</td>\n",
       "      <td>0</td>\n",
       "    </tr>\n",
       "    <tr>\n",
       "      <th>1</th>\n",
       "      <td>1</td>\n",
       "      <td>kasfy nisya</td>\n",
       "      <td>4</td>\n",
       "      <td>2023-11-03T10:00:36.000</td>\n",
       "      <td>Bagus, cuman kadang dlm pertandingan ga seimba...</td>\n",
       "      <td>bagus,cuman,kadang,dlm,tanding,tidak,imbang,so...</td>\n",
       "      <td>-15</td>\n",
       "      <td>negative</td>\n",
       "      <td>0</td>\n",
       "    </tr>\n",
       "    <tr>\n",
       "      <th>2</th>\n",
       "      <td>2</td>\n",
       "      <td>Sun thin Then</td>\n",
       "      <td>1</td>\n",
       "      <td>2023-10-29T15:10:42.000</td>\n",
       "      <td>Gamenya sih udah bagus bgt, grafiknya mantap, ...</td>\n",
       "      <td>game,sih,sudah,bagus,banget,grafik,mantap,back...</td>\n",
       "      <td>12</td>\n",
       "      <td>positive</td>\n",
       "      <td>2</td>\n",
       "    </tr>\n",
       "    <tr>\n",
       "      <th>3</th>\n",
       "      <td>3</td>\n",
       "      <td>Star space</td>\n",
       "      <td>1</td>\n",
       "      <td>2023-10-29T11:50:33.000</td>\n",
       "      <td>Game nya sudah bagus tetapi ada beberapa masal...</td>\n",
       "      <td>game,bagus,resah,dark,sistem,sudah,hapus,tu,na...</td>\n",
       "      <td>-18</td>\n",
       "      <td>negative</td>\n",
       "      <td>0</td>\n",
       "    </tr>\n",
       "    <tr>\n",
       "      <th>4</th>\n",
       "      <td>4</td>\n",
       "      <td>Abdul Ghani Rossyidi</td>\n",
       "      <td>3</td>\n",
       "      <td>2023-10-29T20:25:49.000</td>\n",
       "      <td>Untuk event2 sdah oke lah. Tapi tolong priorit...</td>\n",
       "      <td>event,sdah,oke,tolong,prioritas,nyaman,main,ja...</td>\n",
       "      <td>-7</td>\n",
       "      <td>negative</td>\n",
       "      <td>0</td>\n",
       "    </tr>\n",
       "    <tr>\n",
       "      <th>...</th>\n",
       "      <td>...</td>\n",
       "      <td>...</td>\n",
       "      <td>...</td>\n",
       "      <td>...</td>\n",
       "      <td>...</td>\n",
       "      <td>...</td>\n",
       "      <td>...</td>\n",
       "      <td>...</td>\n",
       "      <td>...</td>\n",
       "    </tr>\n",
       "    <tr>\n",
       "      <th>95</th>\n",
       "      <td>95</td>\n",
       "      <td>Ardi Putra</td>\n",
       "      <td>2</td>\n",
       "      <td>2023-10-10T22:50:04.000</td>\n",
       "      <td>Keluh kesah banget nih hari ini, Pliss lah dar...</td>\n",
       "      <td>keluh,kesah,banget,ini,tolong,moonton,tolong,k...</td>\n",
       "      <td>-21</td>\n",
       "      <td>negative</td>\n",
       "      <td>0</td>\n",
       "    </tr>\n",
       "    <tr>\n",
       "      <th>96</th>\n",
       "      <td>96</td>\n",
       "      <td>Gilang Gilang</td>\n",
       "      <td>1</td>\n",
       "      <td>2023-09-27T06:10:55.000</td>\n",
       "      <td>Aneh padahal penyimpanan masih banyak masa lag...</td>\n",
       "      <td>aneh,simpan,lag,langsung,relog,gameplay,ku,rus...</td>\n",
       "      <td>-7</td>\n",
       "      <td>negative</td>\n",
       "      <td>0</td>\n",
       "    </tr>\n",
       "    <tr>\n",
       "      <th>97</th>\n",
       "      <td>97</td>\n",
       "      <td>Ktek alas</td>\n",
       "      <td>1</td>\n",
       "      <td>2023-10-03T09:08:58.000</td>\n",
       "      <td>Untuk Moonton tolong perbaiki masalah jaringan...</td>\n",
       "      <td>moonton,tolong,baik,jaringan,bug,jaringan,alam...</td>\n",
       "      <td>-2</td>\n",
       "      <td>negative</td>\n",
       "      <td>0</td>\n",
       "    </tr>\n",
       "    <tr>\n",
       "      <th>98</th>\n",
       "      <td>98</td>\n",
       "      <td>Umrotull 029</td>\n",
       "      <td>1</td>\n",
       "      <td>2023-09-27T18:10:49.000</td>\n",
       "      <td>Kenapa ya sekarang kalau update lama banget pd...</td>\n",
       "      <td>iya,terbaru,banget,padahal,pakai,wifi,pakai,da...</td>\n",
       "      <td>0</td>\n",
       "      <td>neutral</td>\n",
       "      <td>1</td>\n",
       "    </tr>\n",
       "    <tr>\n",
       "      <th>99</th>\n",
       "      <td>99</td>\n",
       "      <td>And ADR</td>\n",
       "      <td>1</td>\n",
       "      <td>2023-10-04T23:39:03.000</td>\n",
       "      <td>Kenapa lg ini game. Kalian juga tahu sendiri l...</td>\n",
       "      <td>lagi,game,lahbanyaknya,matchmaking,game,tim,do...</td>\n",
       "      <td>12</td>\n",
       "      <td>positive</td>\n",
       "      <td>2</td>\n",
       "    </tr>\n",
       "  </tbody>\n",
       "</table>\n",
       "<p>100 rows × 9 columns</p>\n",
       "</div>"
      ],
      "text/plain": [
       "    Unnamed: 0              userName  score                       at  \\\n",
       "0            0           Kayna Adiva      1  2023-10-31T17:01:24.000   \n",
       "1            1           kasfy nisya      4  2023-11-03T10:00:36.000   \n",
       "2            2         Sun thin Then      1  2023-10-29T15:10:42.000   \n",
       "3            3            Star space      1  2023-10-29T11:50:33.000   \n",
       "4            4  Abdul Ghani Rossyidi      3  2023-10-29T20:25:49.000   \n",
       "..         ...                   ...    ...                      ...   \n",
       "95          95            Ardi Putra      2  2023-10-10T22:50:04.000   \n",
       "96          96         Gilang Gilang      1  2023-09-27T06:10:55.000   \n",
       "97          97             Ktek alas      1  2023-10-03T09:08:58.000   \n",
       "98          98          Umrotull 029      1  2023-09-27T18:10:49.000   \n",
       "99          99               And ADR      1  2023-10-04T23:39:03.000   \n",
       "\n",
       "                                              content  \\\n",
       "0   Saya rank legend 5 malah terus bertemu musuh y...   \n",
       "1   Bagus, cuman kadang dlm pertandingan ga seimba...   \n",
       "2   Gamenya sih udah bagus bgt, grafiknya mantap, ...   \n",
       "3   Game nya sudah bagus tetapi ada beberapa masal...   \n",
       "4   Untuk event2 sdah oke lah. Tapi tolong priorit...   \n",
       "..                                                ...   \n",
       "95  Keluh kesah banget nih hari ini, Pliss lah dar...   \n",
       "96  Aneh padahal penyimpanan masih banyak masa lag...   \n",
       "97  Untuk Moonton tolong perbaiki masalah jaringan...   \n",
       "98  Kenapa ya sekarang kalau update lama banget pd...   \n",
       "99  Kenapa lg ini game. Kalian juga tahu sendiri l...   \n",
       "\n",
       "                                           clean_teks  polarity_score  \\\n",
       "0   peringkat,legend,temu,musuh,legend,kalah,tim,m...              -6   \n",
       "1   bagus,cuman,kadang,dlm,tanding,tidak,imbang,so...             -15   \n",
       "2   game,sih,sudah,bagus,banget,grafik,mantap,back...              12   \n",
       "3   game,bagus,resah,dark,sistem,sudah,hapus,tu,na...             -18   \n",
       "4   event,sdah,oke,tolong,prioritas,nyaman,main,ja...              -7   \n",
       "..                                                ...             ...   \n",
       "95  keluh,kesah,banget,ini,tolong,moonton,tolong,k...             -21   \n",
       "96  aneh,simpan,lag,langsung,relog,gameplay,ku,rus...              -7   \n",
       "97  moonton,tolong,baik,jaringan,bug,jaringan,alam...              -2   \n",
       "98  iya,terbaru,banget,padahal,pakai,wifi,pakai,da...               0   \n",
       "99  lagi,game,lahbanyaknya,matchmaking,game,tim,do...              12   \n",
       "\n",
       "    polarity  polarity_encoded  \n",
       "0   negative                 0  \n",
       "1   negative                 0  \n",
       "2   positive                 2  \n",
       "3   negative                 0  \n",
       "4   negative                 0  \n",
       "..       ...               ...  \n",
       "95  negative                 0  \n",
       "96  negative                 0  \n",
       "97  negative                 0  \n",
       "98   neutral                 1  \n",
       "99  positive                 2  \n",
       "\n",
       "[100 rows x 9 columns]"
      ]
     },
     "execution_count": 48,
     "metadata": {},
     "output_type": "execute_result"
    }
   ],
   "source": [
    "df"
   ]
  },
  {
   "cell_type": "code",
   "execution_count": 49,
   "metadata": {},
   "outputs": [],
   "source": [
    "# Bangun model LSTM\n",
    "model = Sequential()\n",
    "model.add(Embedding(input_dim=5000, output_dim=16, input_length=100))\n",
    "model.add(LSTM(64, dropout=0.2, recurrent_dropout=0.2))\n",
    "model.add(Dense(1, activation='sigmoid'))\n",
    "model.compile(loss='binary_crossentropy', optimizer='adam', metrics=['accuracy'])"
   ]
  },
  {
   "cell_type": "code",
   "execution_count": 50,
   "metadata": {},
   "outputs": [
    {
     "name": "stdout",
     "output_type": "stream",
     "text": [
      "Epoch 1/5\n",
      "3/3 [==============================] - 5s 415ms/step - loss: 0.6961 - accuracy: 0.4000 - val_loss: 0.6921 - val_accuracy: 0.7500\n",
      "Epoch 2/5\n",
      "3/3 [==============================] - 0s 139ms/step - loss: 0.6947 - accuracy: 0.6375 - val_loss: 0.6936 - val_accuracy: 0.0500\n",
      "Epoch 3/5\n",
      "3/3 [==============================] - 0s 175ms/step - loss: 0.6941 - accuracy: 0.0375 - val_loss: 0.6950 - val_accuracy: 0.0500\n",
      "Epoch 4/5\n",
      "3/3 [==============================] - 0s 132ms/step - loss: 0.6929 - accuracy: 0.0375 - val_loss: 0.6958 - val_accuracy: 0.0500\n",
      "Epoch 5/5\n",
      "3/3 [==============================] - 0s 133ms/step - loss: 0.6926 - accuracy: 0.0375 - val_loss: 0.6966 - val_accuracy: 0.0500\n"
     ]
    },
    {
     "data": {
      "text/plain": [
       "<keras.callbacks.History at 0x1ddcb2489d0>"
      ]
     },
     "execution_count": 50,
     "metadata": {},
     "output_type": "execute_result"
    }
   ],
   "source": [
    "# Latih model\n",
    "model.fit(X_train_pad, y_train, epochs=5, validation_data=(X_test_pad, y_test))"
   ]
  },
  {
   "cell_type": "code",
   "execution_count": 51,
   "metadata": {},
   "outputs": [
    {
     "name": "stdout",
     "output_type": "stream",
     "text": [
      "1/1 [==============================] - 0s 62ms/step - loss: 0.6966 - accuracy: 0.0500\n",
      "Loss: 0.6966400146484375\n",
      "Accuracy: 0.05000000074505806\n"
     ]
    }
   ],
   "source": [
    "# Evaluasi model\n",
    "loss, accuracy = model.evaluate(X_test_pad, y_test)\n",
    "print(f\"Loss: {loss}\")\n",
    "print(f\"Accuracy: {accuracy}\")"
   ]
  },
  {
   "cell_type": "code",
   "execution_count": 52,
   "metadata": {},
   "outputs": [
    {
     "name": "stdout",
     "output_type": "stream",
     "text": [
      "1/1 [==============================] - 0s 397ms/step\n",
      "Confusion Matrix:\n",
      "[[ 0 15  0]\n",
      " [ 0  1  0]\n",
      " [ 0  4  0]]\n",
      "\n",
      "Classification Report:\n",
      "              precision    recall  f1-score   support\n",
      "\n",
      "           0       0.00      0.00      0.00        15\n",
      "           1       0.05      1.00      0.10         1\n",
      "           2       0.00      0.00      0.00         4\n",
      "\n",
      "    accuracy                           0.05        20\n",
      "   macro avg       0.02      0.33      0.03        20\n",
      "weighted avg       0.00      0.05      0.00        20\n",
      "\n"
     ]
    },
    {
     "name": "stderr",
     "output_type": "stream",
     "text": [
      "d:\\AppData\\anaconda3\\Lib\\site-packages\\sklearn\\metrics\\_classification.py:1469: UndefinedMetricWarning: Precision and F-score are ill-defined and being set to 0.0 in labels with no predicted samples. Use `zero_division` parameter to control this behavior.\n",
      "  _warn_prf(average, modifier, msg_start, len(result))\n",
      "d:\\AppData\\anaconda3\\Lib\\site-packages\\sklearn\\metrics\\_classification.py:1469: UndefinedMetricWarning: Precision and F-score are ill-defined and being set to 0.0 in labels with no predicted samples. Use `zero_division` parameter to control this behavior.\n",
      "  _warn_prf(average, modifier, msg_start, len(result))\n",
      "d:\\AppData\\anaconda3\\Lib\\site-packages\\sklearn\\metrics\\_classification.py:1469: UndefinedMetricWarning: Precision and F-score are ill-defined and being set to 0.0 in labels with no predicted samples. Use `zero_division` parameter to control this behavior.\n",
      "  _warn_prf(average, modifier, msg_start, len(result))\n"
     ]
    }
   ],
   "source": [
    "# Prediksi pada data uji\n",
    "predictions = model.predict(X_test_pad)\n",
    "\n",
    "# Konversi nilai probabilitas menjadi kelas\n",
    "predicted_labels = [1 if pred > 0.5 else 0 for pred in predictions]\n",
    "\n",
    "# Evaluasi klasifikasi\n",
    "print(\"Confusion Matrix:\")\n",
    "print(confusion_matrix(y_test, predicted_labels))\n",
    "\n",
    "print(\"\\nClassification Report:\")\n",
    "print(classification_report(y_test, predicted_labels))"
   ]
  },
  {
   "cell_type": "code",
   "execution_count": 53,
   "metadata": {},
   "outputs": [],
   "source": [
    "model.save('model.h5')"
   ]
  }
 ],
 "metadata": {
  "kernelspec": {
   "display_name": "base",
   "language": "python",
   "name": "python3"
  },
  "language_info": {
   "codemirror_mode": {
    "name": "ipython",
    "version": 3
   },
   "file_extension": ".py",
   "mimetype": "text/x-python",
   "name": "python",
   "nbconvert_exporter": "python",
   "pygments_lexer": "ipython3",
   "version": "3.11.5"
  }
 },
 "nbformat": 4,
 "nbformat_minor": 2
}
